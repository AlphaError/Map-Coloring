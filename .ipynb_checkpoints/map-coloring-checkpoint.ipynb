{
 "cells": [
  {
   "cell_type": "code",
   "execution_count": 2,
   "id": "053b0c56",
   "metadata": {},
   "outputs": [],
   "source": [
    "# NYU 2021 AI Project 2 (Final) -- Map Coloring \n",
    "#  by: Kora S. Hughes"
   ]
  },
  {
   "cell_type": "code",
   "execution_count": null,
   "id": "4a93c4f7",
   "metadata": {},
   "outputs": [],
   "source": [
    "import copy\n",
    "import fileinput\n",
    "import os"
   ]
  },
  {
   "cell_type": "code",
   "execution_count": null,
   "id": "f31f5d9f",
   "metadata": {},
   "outputs": [],
   "source": [
    "# Backtracking Algorithm for CSPs\n",
    "class ColorMap:\n",
    "    def __init__(map_dict, constraint_dict):\n",
    "        \"\"\" initialized based on map dict and constraints\"\"\"\n",
    "        self.map = map_dict.copy()\n",
    "        self.constraints = constraint_dict.copy()\n",
    "    \n",
    "    def __str__(self):  # output function\n",
    "        print(\"Map:\")\n",
    "        for reigon, color in self.map.items():\n",
    "            print(reigon, \"=\", color)\n",
    "            \n",
    "    def is_complete():\n",
    "        \"\"\" checks if map is completely filled out \"\"\"\n",
    "        for reigon, color in self.map.items():\n",
    "            if color == \"\":\n",
    "                return False\n",
    "        return True\n",
    "    \n",
    "    def is_valid():\n",
    "        \"\"\" checks if a map is *correctly* filled out \"\"\"\n",
    "        if self.is_complete():\n",
    "            ...\n",
    "        return False"
   ]
  },
  {
   "cell_type": "code",
   "execution_count": null,
   "id": "7bdaea91",
   "metadata": {},
   "outputs": [],
   "source": [
    "def SUV(): # SELECT-UNASSIGNED-VARIABLE\n",
    "    ...\n",
    "\n",
    "def min_val():  # minumum remaining value heuristic\n",
    "    \"\"\" takes in a map and constraints and returns a list of reigons according to MRV \"\"\"\n",
    "    reigons = []\n",
    "    return reigons\n",
    "    \n",
    "def degree():  # degree heuristic\n",
    "    \"\"\" takes in a map and constraints and returns a list of reigons according to Degree Heuristic \"\"\"\n",
    "    reigons = []\n",
    "    return reigons"
   ]
  },
  {
   "cell_type": "code",
   "execution_count": 5,
   "id": "2fa2610a",
   "metadata": {},
   "outputs": [
    {
     "name": "stdout",
     "output_type": "stream",
     "text": [
      "start...\n",
      "\n",
      "hi\n",
      "\n",
      "...end\n"
     ]
    }
   ],
   "source": [
    "if __name__ == '__main__':\n",
    "    print(\"start...\\n\")\n",
    "    \n",
    "    input_files = os.listdir(os.getcwd() + \"/Input\")  # get all files in input dir\n",
    "    for file_i in range(len(input_files)):  # run code on all files in directory\n",
    "        for line in fileinput.FileInput(files = \"Input/\"+input_files[file_i]):\n",
    "            ... # parse input\n",
    "        \n",
    "        ... # compute answer\n",
    "\n",
    "        # write/show output\n",
    "        f = open(\"Output/output\"+str(file_i+1)+\".txt\", \"w\")  # create file if it doesnt exist\n",
    "        f.write(\"\\n\")\n",
    "        f.close\n",
    "    print(\"\\n...end\")"
   ]
  },
  {
   "cell_type": "code",
   "execution_count": null,
   "id": "5d668e95",
   "metadata": {},
   "outputs": [],
   "source": []
  }
 ],
 "metadata": {
  "kernelspec": {
   "display_name": "Python 3 (ipykernel)",
   "language": "python",
   "name": "python3"
  },
  "language_info": {
   "codemirror_mode": {
    "name": "ipython",
    "version": 3
   },
   "file_extension": ".py",
   "mimetype": "text/x-python",
   "name": "python",
   "nbconvert_exporter": "python",
   "pygments_lexer": "ipython3",
   "version": "3.7.4"
  }
 },
 "nbformat": 4,
 "nbformat_minor": 5
}
