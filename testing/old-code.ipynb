{
 "cells": [
  {
   "cell_type": "code",
   "execution_count": 23,
   "id": "92c747a6",
   "metadata": {},
   "outputs": [],
   "source": [
    "# NYU 2021 AI Project 2 (Final) -- Constraint Satisfaction Problems: Map Coloring\n",
    "#  by: Kora S. Hughes"
   ]
  },
  {
   "cell_type": "code",
   "execution_count": 65,
   "id": "30c3ab3b",
   "metadata": {},
   "outputs": [],
   "source": [
    "import copy\n",
    "import fileinput\n",
    "import os"
   ]
  },
  {
   "cell_type": "code",
   "execution_count": 66,
   "id": "f67f805e",
   "metadata": {},
   "outputs": [],
   "source": [
    "# Backtracking Algorithm for CSPs\n",
    "# Note: regions = variables & colors = constraints\n",
    "class ColorMap:\n",
    "    def __init__(self, constraints, adjacency, order):\n",
    "        \"\"\" initialized constraints, adjacent list, and order of values\"\"\"\n",
    "        self.map = {key: \"\" for key, value in constraints.items()}\n",
    "        # empty string as value is easy to check later on (default/unassigned state)\n",
    "        self.colors = constraints.copy()\n",
    "        self.adjacency = adjacency  # nested list of adjacent things\n",
    "        self.order = order  # order of reigons\n",
    "        # Note: constraint dict is (key, value) : (region, list of potential values)\n",
    "    \n",
    "    def __str__(self):  # output function\n",
    "        out = \"*Map:\"\n",
    "        for region, color in self.map.items():\n",
    "            out += \"\\n\" + str(region) + \" = \" + str(color)\n",
    "        return out\n",
    "            \n",
    "    def is_complete(self):\n",
    "        \"\"\" checks if map is completely filled out \"\"\"\n",
    "        for region, color in self.map.items():\n",
    "            if color == \"\":\n",
    "                return False\n",
    "        return True\n",
    "    \n",
    "    def is_valid(self):\n",
    "        \"\"\" checks if a map is *correctly* filled out \"\"\"\n",
    "        if self.is_complete():\n",
    "            ...\n",
    "        return False\n",
    "    \n",
    "    def is_adjecent(self, r1, r2):\n",
    "        \"\"\" returns whether or not two reigons are adjacent\"\"\"\n",
    "#         assert r1 != r2\n",
    "        i = self.order.index(r1)  # Note: will give value error if not found\n",
    "        j = self.order.index(r2)\n",
    "        return bool(int(self.adjaceny[i+1, j]))\n",
    "    \n",
    "    def show_adj_map(self):\n",
    "        print(\"  \", \" \".join(self.order))\n",
    "        for i in range(len(self.adjacency)):\n",
    "            out = self.order[i] + \" \".join(self.adjacency[i])"
   ]
  },
  {
   "cell_type": "code",
   "execution_count": 67,
   "id": "abf639b9",
   "metadata": {},
   "outputs": [],
   "source": [
    "def SUV(): # SELECT-UNASSIGNED-VARIABLE\n",
    "    ...\n",
    "    \n",
    "def ODV(): # ORDER-DOMAIN-VALUES\n",
    "    ...\n",
    "\n",
    "def min_val():  # minumum remaining value heuristic\n",
    "    \"\"\" takes in a map and constraints and returns a list of regions according to MRV \"\"\"\n",
    "    regions = []\n",
    "    assert len(regions) > 0\n",
    "    return regions\n",
    "    \n",
    "def degree():  # degree heuristic\n",
    "    \"\"\" takes in a map and constraints and returns a list of regions according to Degree Heuristic \"\"\"\n",
    "    regions = []\n",
    "    return regions"
   ]
  },
  {
   "cell_type": "code",
   "execution_count": 71,
   "id": "2a229a05",
   "metadata": {},
   "outputs": [
    {
     "name": "stdout",
     "output_type": "stream",
     "text": [
      "start...\n",
      "\n",
      "ADJ: [['0', '0', '1', '1', '0', '1'], ['0', '0', '1', '1', '1', '0'], ['1', '1', '0', '1', '0', '0'], ['1', '1', '1', '0', '1', '1'], ['0', '1', '0', '1', '0', '0'], ['1', '0', '0', '1', '0', '0']]\n",
      "  NSW NT Q SA WA V\n",
      "*Map:\n",
      "NSW = \n",
      "NT = \n",
      "Q = \n",
      "SA = \n",
      "WA = \n",
      "V = \n",
      "\n",
      "...end\n"
     ]
    }
   ],
   "source": [
    "if __name__ == '__main__':\n",
    "    print(\"start...\\n\")\n",
    "    \n",
    "    input_files = os.listdir(os.getcwd() + \"/Inputs\")  # get all files in input dir\n",
    "    for file_i in range(len(input_files)):  # run code on all files in directory\n",
    "        line_num = 1  # keeping track of what input line maps to what value\n",
    "        \n",
    "        num_regions = -1  # used for error checking\n",
    "        num_colors = -1\n",
    "        \n",
    "        temp_colors = {}\n",
    "        temp_adjacency = []\n",
    "        temp_order = []\n",
    "        for line in fileinput.FileInput(files = \"Inputs/\"+input_files[file_i]):  # parse input\n",
    "            line = line.replace('\\n', '').replace('\\t', '').split(\" \")  # formatting\n",
    "            line = list(filter(lambda x: x != \"\", line))  # get rid of empty strings - potential spacing edge-case\n",
    "            if line_num == 1:\n",
    "                num_regions = int(line[0])\n",
    "                num_colors = int(line[1])\n",
    "            elif line_num == 2:  # save reigons (and their order)\n",
    "                temp_order = line\n",
    "            elif line_num == 3:  # save colors\n",
    "                assert len(line) == num_colors\n",
    "                for region in temp_order:  # assuming the potential values are homogenous among regions\n",
    "                    temp_colors[region] = line  # fill colors\n",
    "            else:\n",
    "                if len(line) > 0:\n",
    "                    temp_adjacency.append(line)\n",
    "            line_num += 1\n",
    "        assert num_regions != -1 and num_colors != -1  # testing\n",
    "        assert len(temp_adjacency) == len(temp_adjacency[0]) == len(temp_order) == num_regions\n",
    "        new_map = ColorMap(temp_colors, temp_adjacency, temp_order)\n",
    "#         print(temp_colors)\n",
    "        print(\"ADJ:\", new_map.adjacency)\n",
    "        new_map.show_adj_map()\n",
    "        \n",
    "        ... # compute answer\n",
    "\n",
    "        # write/show output\n",
    "        print(new_map)\n",
    "#         f = open(\"Outputs/output\"+str(file_i+1)+\".txt\", \"w\")  # create file if it doesnt exist\n",
    "#         f.write(str(new_map))\n",
    "#         f.close\n",
    "        \n",
    "    print(\"\\n...end\")"
   ]
  },
  {
   "cell_type": "code",
   "execution_count": null,
   "id": "4c2a290a",
   "metadata": {},
   "outputs": [],
   "source": []
  },
  {
   "cell_type": "code",
   "execution_count": null,
   "id": "5d1154dd",
   "metadata": {},
   "outputs": [],
   "source": []
  }
 ],
 "metadata": {
  "kernelspec": {
   "display_name": "Python 3 (ipykernel)",
   "language": "python",
   "name": "python3"
  },
  "language_info": {
   "codemirror_mode": {
    "name": "ipython",
    "version": 3
   },
   "file_extension": ".py",
   "mimetype": "text/x-python",
   "name": "python",
   "nbconvert_exporter": "python",
   "pygments_lexer": "ipython3",
   "version": "3.7.4"
  }
 },
 "nbformat": 4,
 "nbformat_minor": 5
}
